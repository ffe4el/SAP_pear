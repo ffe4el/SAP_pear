{
 "cells": [
  {
   "cell_type": "code",
   "execution_count": 2,
   "metadata": {
    "collapsed": true
   },
   "outputs": [
    {
     "name": "stdout",
     "output_type": "stream",
     "text": [
      "Intel MKL WARNING: Support of Intel(R) Streaming SIMD Extensions 4.2 (Intel(R) SSE4.2) enabled only processors has been deprecated. Intel oneAPI Math Kernel Library 2025.0 will require Intel(R) Advanced Vector Extensions (Intel(R) AVX) instructions.\n",
      "Intel MKL WARNING: Support of Intel(R) Streaming SIMD Extensions 4.2 (Intel(R) SSE4.2) enabled only processors has been deprecated. Intel oneAPI Math Kernel Library 2025.0 will require Intel(R) Advanced Vector Extensions (Intel(R) AVX) instructions.\n"
     ]
    }
   ],
   "source": [
    "import pandas as pd"
   ]
  },
  {
   "cell_type": "code",
   "execution_count": 3,
   "outputs": [
    {
     "data": {
      "text/plain": "   year   month   day   tmax   tavg   tmin   humid   wind   sunshine  \\\n0  2021       1     1    3.4   -1.6   -7.5    70.8    1.6        5.9   \n1  2021       1     2    1.3   -1.3   -3.6    57.8    2.0        7.8   \n2  2021       1     3    1.4   -2.1   -5.7    56.0    1.0        3.7   \n3  2021       1     4    5.0   -0.2   -6.0    64.0    0.9        5.4   \n4  2021       1     5    3.9   -1.4   -6.3    61.9    2.4        5.3   \n\n    rainfall   snow   cloud  \n0        0.0    2.8     3.8  \n1        0.0    0.1     2.8  \n2        0.0    0.0     7.3  \n3        0.0    0.0     3.9  \n4        0.0    0.0     5.3  ",
      "text/html": "<div>\n<style scoped>\n    .dataframe tbody tr th:only-of-type {\n        vertical-align: middle;\n    }\n\n    .dataframe tbody tr th {\n        vertical-align: top;\n    }\n\n    .dataframe thead th {\n        text-align: right;\n    }\n</style>\n<table border=\"1\" class=\"dataframe\">\n  <thead>\n    <tr style=\"text-align: right;\">\n      <th></th>\n      <th>year</th>\n      <th>month</th>\n      <th>day</th>\n      <th>tmax</th>\n      <th>tavg</th>\n      <th>tmin</th>\n      <th>humid</th>\n      <th>wind</th>\n      <th>sunshine</th>\n      <th>rainfall</th>\n      <th>snow</th>\n      <th>cloud</th>\n    </tr>\n  </thead>\n  <tbody>\n    <tr>\n      <th>0</th>\n      <td>2021</td>\n      <td>1</td>\n      <td>1</td>\n      <td>3.4</td>\n      <td>-1.6</td>\n      <td>-7.5</td>\n      <td>70.8</td>\n      <td>1.6</td>\n      <td>5.9</td>\n      <td>0.0</td>\n      <td>2.8</td>\n      <td>3.8</td>\n    </tr>\n    <tr>\n      <th>1</th>\n      <td>2021</td>\n      <td>1</td>\n      <td>2</td>\n      <td>1.3</td>\n      <td>-1.3</td>\n      <td>-3.6</td>\n      <td>57.8</td>\n      <td>2.0</td>\n      <td>7.8</td>\n      <td>0.0</td>\n      <td>0.1</td>\n      <td>2.8</td>\n    </tr>\n    <tr>\n      <th>2</th>\n      <td>2021</td>\n      <td>1</td>\n      <td>3</td>\n      <td>1.4</td>\n      <td>-2.1</td>\n      <td>-5.7</td>\n      <td>56.0</td>\n      <td>1.0</td>\n      <td>3.7</td>\n      <td>0.0</td>\n      <td>0.0</td>\n      <td>7.3</td>\n    </tr>\n    <tr>\n      <th>3</th>\n      <td>2021</td>\n      <td>1</td>\n      <td>4</td>\n      <td>5.0</td>\n      <td>-0.2</td>\n      <td>-6.0</td>\n      <td>64.0</td>\n      <td>0.9</td>\n      <td>5.4</td>\n      <td>0.0</td>\n      <td>0.0</td>\n      <td>3.9</td>\n    </tr>\n    <tr>\n      <th>4</th>\n      <td>2021</td>\n      <td>1</td>\n      <td>5</td>\n      <td>3.9</td>\n      <td>-1.4</td>\n      <td>-6.3</td>\n      <td>61.9</td>\n      <td>2.4</td>\n      <td>5.3</td>\n      <td>0.0</td>\n      <td>0.0</td>\n      <td>5.3</td>\n    </tr>\n  </tbody>\n</table>\n</div>"
     },
     "execution_count": 3,
     "metadata": {},
     "output_type": "execute_result"
    }
   ],
   "source": [
    "# API 이용하기\n",
    "year_s = 2021\n",
    "year_e = 2021\n",
    "station_code = 146\n",
    "url = f\"https://api.taegon.kr/stations/{station_code}/?sy={year_s}&ey={year_e}&format=csv\"\n",
    "\n",
    "# 데이터 프레임 만들기\n",
    "df21 = pd.read_csv(url)\n",
    "df21.head()"
   ],
   "metadata": {
    "collapsed": false
   }
  },
  {
   "cell_type": "code",
   "execution_count": 4,
   "outputs": [
    {
     "data": {
      "text/plain": "   year   month   day   tmax   tavg   tmin   humid   wind   sunshine  \\\n0  2022       1     1    2.7   -2.7   -8.9    52.5    0.8        6.9   \n1  2022       1     2    6.6    0.3   -4.2    59.8    1.3        5.1   \n2  2022       1     3    3.8   -0.7   -5.6    66.9    1.2        8.9   \n3  2022       1     4    5.2    0.8   -2.5    55.3    1.6        8.8   \n4  2022       1     5    3.3    0.1   -3.7    49.8    0.6        0.7   \n\n    rainfall   snow   cloud  \n0        0.0    0.0     4.4  \n1        0.0    0.0     2.1  \n2        0.0    0.0     1.1  \n3        0.0    0.0     2.9  \n4        0.0    0.0     9.0  ",
      "text/html": "<div>\n<style scoped>\n    .dataframe tbody tr th:only-of-type {\n        vertical-align: middle;\n    }\n\n    .dataframe tbody tr th {\n        vertical-align: top;\n    }\n\n    .dataframe thead th {\n        text-align: right;\n    }\n</style>\n<table border=\"1\" class=\"dataframe\">\n  <thead>\n    <tr style=\"text-align: right;\">\n      <th></th>\n      <th>year</th>\n      <th>month</th>\n      <th>day</th>\n      <th>tmax</th>\n      <th>tavg</th>\n      <th>tmin</th>\n      <th>humid</th>\n      <th>wind</th>\n      <th>sunshine</th>\n      <th>rainfall</th>\n      <th>snow</th>\n      <th>cloud</th>\n    </tr>\n  </thead>\n  <tbody>\n    <tr>\n      <th>0</th>\n      <td>2022</td>\n      <td>1</td>\n      <td>1</td>\n      <td>2.7</td>\n      <td>-2.7</td>\n      <td>-8.9</td>\n      <td>52.5</td>\n      <td>0.8</td>\n      <td>6.9</td>\n      <td>0.0</td>\n      <td>0.0</td>\n      <td>4.4</td>\n    </tr>\n    <tr>\n      <th>1</th>\n      <td>2022</td>\n      <td>1</td>\n      <td>2</td>\n      <td>6.6</td>\n      <td>0.3</td>\n      <td>-4.2</td>\n      <td>59.8</td>\n      <td>1.3</td>\n      <td>5.1</td>\n      <td>0.0</td>\n      <td>0.0</td>\n      <td>2.1</td>\n    </tr>\n    <tr>\n      <th>2</th>\n      <td>2022</td>\n      <td>1</td>\n      <td>3</td>\n      <td>3.8</td>\n      <td>-0.7</td>\n      <td>-5.6</td>\n      <td>66.9</td>\n      <td>1.2</td>\n      <td>8.9</td>\n      <td>0.0</td>\n      <td>0.0</td>\n      <td>1.1</td>\n    </tr>\n    <tr>\n      <th>3</th>\n      <td>2022</td>\n      <td>1</td>\n      <td>4</td>\n      <td>5.2</td>\n      <td>0.8</td>\n      <td>-2.5</td>\n      <td>55.3</td>\n      <td>1.6</td>\n      <td>8.8</td>\n      <td>0.0</td>\n      <td>0.0</td>\n      <td>2.9</td>\n    </tr>\n    <tr>\n      <th>4</th>\n      <td>2022</td>\n      <td>1</td>\n      <td>5</td>\n      <td>3.3</td>\n      <td>0.1</td>\n      <td>-3.7</td>\n      <td>49.8</td>\n      <td>0.6</td>\n      <td>0.7</td>\n      <td>0.0</td>\n      <td>0.0</td>\n      <td>9.0</td>\n    </tr>\n  </tbody>\n</table>\n</div>"
     },
     "execution_count": 4,
     "metadata": {},
     "output_type": "execute_result"
    }
   ],
   "source": [
    "# API 이용하기\n",
    "year_s = 2022\n",
    "year_e = 2022\n",
    "station_code = 146\n",
    "url = f\"https://api.taegon.kr/stations/{station_code}/?sy={year_s}&ey={year_e}&format=csv\"\n",
    "\n",
    "# 데이터 프레임 만들기\n",
    "df22 = pd.read_csv(url)\n",
    "df22.head()"
   ],
   "metadata": {
    "collapsed": false
   }
  },
  {
   "cell_type": "code",
   "execution_count": 5,
   "outputs": [
    {
     "data": {
      "text/plain": "   year   month   day   tmax   tavg   tmin   humid   wind   sunshine  \\\n0  2023       1     1    5.9    0.6   -3.0    62.0    1.6        6.7   \n1  2023       1     2    2.0   -1.8   -4.0    53.1    1.5        9.2   \n2  2023       1     3    2.9   -2.1   -7.2    65.5    1.6        9.3   \n3  2023       1     4    5.6    0.0   -5.4    66.0    1.5        7.8   \n4  2023       1     5    7.7    2.4   -2.6    70.3    1.1        6.2   \n\n    rainfall   snow   cloud  \n0        0.0    0.0     2.8  \n1        0.0    0.0     3.1  \n2        0.0    0.0     0.0  \n3        0.0    0.0     1.3  \n4        0.0    0.0     5.3  ",
      "text/html": "<div>\n<style scoped>\n    .dataframe tbody tr th:only-of-type {\n        vertical-align: middle;\n    }\n\n    .dataframe tbody tr th {\n        vertical-align: top;\n    }\n\n    .dataframe thead th {\n        text-align: right;\n    }\n</style>\n<table border=\"1\" class=\"dataframe\">\n  <thead>\n    <tr style=\"text-align: right;\">\n      <th></th>\n      <th>year</th>\n      <th>month</th>\n      <th>day</th>\n      <th>tmax</th>\n      <th>tavg</th>\n      <th>tmin</th>\n      <th>humid</th>\n      <th>wind</th>\n      <th>sunshine</th>\n      <th>rainfall</th>\n      <th>snow</th>\n      <th>cloud</th>\n    </tr>\n  </thead>\n  <tbody>\n    <tr>\n      <th>0</th>\n      <td>2023</td>\n      <td>1</td>\n      <td>1</td>\n      <td>5.9</td>\n      <td>0.6</td>\n      <td>-3.0</td>\n      <td>62.0</td>\n      <td>1.6</td>\n      <td>6.7</td>\n      <td>0.0</td>\n      <td>0.0</td>\n      <td>2.8</td>\n    </tr>\n    <tr>\n      <th>1</th>\n      <td>2023</td>\n      <td>1</td>\n      <td>2</td>\n      <td>2.0</td>\n      <td>-1.8</td>\n      <td>-4.0</td>\n      <td>53.1</td>\n      <td>1.5</td>\n      <td>9.2</td>\n      <td>0.0</td>\n      <td>0.0</td>\n      <td>3.1</td>\n    </tr>\n    <tr>\n      <th>2</th>\n      <td>2023</td>\n      <td>1</td>\n      <td>3</td>\n      <td>2.9</td>\n      <td>-2.1</td>\n      <td>-7.2</td>\n      <td>65.5</td>\n      <td>1.6</td>\n      <td>9.3</td>\n      <td>0.0</td>\n      <td>0.0</td>\n      <td>0.0</td>\n    </tr>\n    <tr>\n      <th>3</th>\n      <td>2023</td>\n      <td>1</td>\n      <td>4</td>\n      <td>5.6</td>\n      <td>0.0</td>\n      <td>-5.4</td>\n      <td>66.0</td>\n      <td>1.5</td>\n      <td>7.8</td>\n      <td>0.0</td>\n      <td>0.0</td>\n      <td>1.3</td>\n    </tr>\n    <tr>\n      <th>4</th>\n      <td>2023</td>\n      <td>1</td>\n      <td>5</td>\n      <td>7.7</td>\n      <td>2.4</td>\n      <td>-2.6</td>\n      <td>70.3</td>\n      <td>1.1</td>\n      <td>6.2</td>\n      <td>0.0</td>\n      <td>0.0</td>\n      <td>5.3</td>\n    </tr>\n  </tbody>\n</table>\n</div>"
     },
     "execution_count": 5,
     "metadata": {},
     "output_type": "execute_result"
    }
   ],
   "source": [
    "# API 이용하기\n",
    "year_s = 2023\n",
    "year_e = 2023\n",
    "station_code = 146\n",
    "url = f\"https://api.taegon.kr/stations/{station_code}/?sy={year_s}&ey={year_e}&format=csv\"\n",
    "\n",
    "# 데이터 프레임 만들기\n",
    "df23 = pd.read_csv(url)\n",
    "df23.head()"
   ],
   "metadata": {
    "collapsed": false
   }
  },
  {
   "cell_type": "code",
   "execution_count": 6,
   "outputs": [
    {
     "data": {
      "text/plain": "Index(['year', ' month', ' day', ' tmax', ' tavg', ' tmin', ' humid', ' wind',\n       ' sunshine', ' rainfall', ' snow', ' cloud'],\n      dtype='object')"
     },
     "execution_count": 6,
     "metadata": {},
     "output_type": "execute_result"
    }
   ],
   "source": [
    "df23.columns"
   ],
   "metadata": {
    "collapsed": false
   }
  },
  {
   "cell_type": "code",
   "execution_count": null,
   "outputs": [],
   "source": [
    "pear_result = pd.DataFrame({'location', ''})"
   ],
   "metadata": {
    "collapsed": false
   }
  },
  {
   "cell_type": "markdown",
   "source": [
    "## DVR"
   ],
   "metadata": {
    "collapsed": false
   }
  },
  {
   "cell_type": "code",
   "execution_count": 7,
   "outputs": [
    {
     "data": {
      "text/plain": "     year   month   day   tmax   tavg   tmin   humid   wind   sunshine  \\\n25   2023       1    26    2.8   -2.0   -8.7    70.0    1.6        0.0   \n26   2023       1    27   -0.6   -4.2   -6.9    57.0    2.8        8.3   \n27   2023       1    28   -0.6   -4.6   -9.4    68.4    1.1        4.4   \n28   2023       1    29    5.5    0.6   -6.0    66.3    2.4        7.8   \n29   2023       1    30    5.6    0.3   -4.0    51.6    1.6        9.5   \n..    ...     ...   ...    ...    ...    ...     ...    ...        ...   \n359  2023      12    27    9.0    4.1    1.1    75.8    1.1        8.5   \n360  2023      12    28    7.4    2.8   -1.0    79.1    1.2        7.6   \n361  2023      12    29    7.9    2.6   -1.1    75.1    1.3        6.5   \n362  2023      12    30    9.1    4.0   -1.3    78.8    1.2        0.5   \n363  2023      12    31    9.1    5.8    4.0    81.5    2.9        0.0   \n\n      rainfall   snow   cloud  \n25         0.1    0.0     9.5  \n26         0.0    0.0     1.4  \n27         0.0    0.0     3.6  \n28         0.0    0.0     2.6  \n29         0.0    0.0     0.0  \n..         ...    ...     ...  \n359        0.0    0.0     2.3  \n360        0.0    0.0     0.3  \n361        0.0    0.0     1.9  \n362        1.1    0.0     7.1  \n363        1.9    0.0     9.4  \n\n[339 rows x 12 columns]",
      "text/html": "<div>\n<style scoped>\n    .dataframe tbody tr th:only-of-type {\n        vertical-align: middle;\n    }\n\n    .dataframe tbody tr th {\n        vertical-align: top;\n    }\n\n    .dataframe thead th {\n        text-align: right;\n    }\n</style>\n<table border=\"1\" class=\"dataframe\">\n  <thead>\n    <tr style=\"text-align: right;\">\n      <th></th>\n      <th>year</th>\n      <th>month</th>\n      <th>day</th>\n      <th>tmax</th>\n      <th>tavg</th>\n      <th>tmin</th>\n      <th>humid</th>\n      <th>wind</th>\n      <th>sunshine</th>\n      <th>rainfall</th>\n      <th>snow</th>\n      <th>cloud</th>\n    </tr>\n  </thead>\n  <tbody>\n    <tr>\n      <th>25</th>\n      <td>2023</td>\n      <td>1</td>\n      <td>26</td>\n      <td>2.8</td>\n      <td>-2.0</td>\n      <td>-8.7</td>\n      <td>70.0</td>\n      <td>1.6</td>\n      <td>0.0</td>\n      <td>0.1</td>\n      <td>0.0</td>\n      <td>9.5</td>\n    </tr>\n    <tr>\n      <th>26</th>\n      <td>2023</td>\n      <td>1</td>\n      <td>27</td>\n      <td>-0.6</td>\n      <td>-4.2</td>\n      <td>-6.9</td>\n      <td>57.0</td>\n      <td>2.8</td>\n      <td>8.3</td>\n      <td>0.0</td>\n      <td>0.0</td>\n      <td>1.4</td>\n    </tr>\n    <tr>\n      <th>27</th>\n      <td>2023</td>\n      <td>1</td>\n      <td>28</td>\n      <td>-0.6</td>\n      <td>-4.6</td>\n      <td>-9.4</td>\n      <td>68.4</td>\n      <td>1.1</td>\n      <td>4.4</td>\n      <td>0.0</td>\n      <td>0.0</td>\n      <td>3.6</td>\n    </tr>\n    <tr>\n      <th>28</th>\n      <td>2023</td>\n      <td>1</td>\n      <td>29</td>\n      <td>5.5</td>\n      <td>0.6</td>\n      <td>-6.0</td>\n      <td>66.3</td>\n      <td>2.4</td>\n      <td>7.8</td>\n      <td>0.0</td>\n      <td>0.0</td>\n      <td>2.6</td>\n    </tr>\n    <tr>\n      <th>29</th>\n      <td>2023</td>\n      <td>1</td>\n      <td>30</td>\n      <td>5.6</td>\n      <td>0.3</td>\n      <td>-4.0</td>\n      <td>51.6</td>\n      <td>1.6</td>\n      <td>9.5</td>\n      <td>0.0</td>\n      <td>0.0</td>\n      <td>0.0</td>\n    </tr>\n    <tr>\n      <th>...</th>\n      <td>...</td>\n      <td>...</td>\n      <td>...</td>\n      <td>...</td>\n      <td>...</td>\n      <td>...</td>\n      <td>...</td>\n      <td>...</td>\n      <td>...</td>\n      <td>...</td>\n      <td>...</td>\n      <td>...</td>\n    </tr>\n    <tr>\n      <th>359</th>\n      <td>2023</td>\n      <td>12</td>\n      <td>27</td>\n      <td>9.0</td>\n      <td>4.1</td>\n      <td>1.1</td>\n      <td>75.8</td>\n      <td>1.1</td>\n      <td>8.5</td>\n      <td>0.0</td>\n      <td>0.0</td>\n      <td>2.3</td>\n    </tr>\n    <tr>\n      <th>360</th>\n      <td>2023</td>\n      <td>12</td>\n      <td>28</td>\n      <td>7.4</td>\n      <td>2.8</td>\n      <td>-1.0</td>\n      <td>79.1</td>\n      <td>1.2</td>\n      <td>7.6</td>\n      <td>0.0</td>\n      <td>0.0</td>\n      <td>0.3</td>\n    </tr>\n    <tr>\n      <th>361</th>\n      <td>2023</td>\n      <td>12</td>\n      <td>29</td>\n      <td>7.9</td>\n      <td>2.6</td>\n      <td>-1.1</td>\n      <td>75.1</td>\n      <td>1.3</td>\n      <td>6.5</td>\n      <td>0.0</td>\n      <td>0.0</td>\n      <td>1.9</td>\n    </tr>\n    <tr>\n      <th>362</th>\n      <td>2023</td>\n      <td>12</td>\n      <td>30</td>\n      <td>9.1</td>\n      <td>4.0</td>\n      <td>-1.3</td>\n      <td>78.8</td>\n      <td>1.2</td>\n      <td>0.5</td>\n      <td>1.1</td>\n      <td>0.0</td>\n      <td>7.1</td>\n    </tr>\n    <tr>\n      <th>363</th>\n      <td>2023</td>\n      <td>12</td>\n      <td>31</td>\n      <td>9.1</td>\n      <td>5.8</td>\n      <td>4.0</td>\n      <td>81.5</td>\n      <td>2.9</td>\n      <td>0.0</td>\n      <td>1.9</td>\n      <td>0.0</td>\n      <td>9.4</td>\n    </tr>\n  </tbody>\n</table>\n<p>339 rows × 12 columns</p>\n</div>"
     },
     "execution_count": 7,
     "metadata": {},
     "output_type": "execute_result"
    }
   ],
   "source": [
    "df23 = df23[:][25:]\n",
    "df23"
   ],
   "metadata": {
    "collapsed": false
   }
  },
  {
   "cell_type": "code",
   "execution_count": 8,
   "outputs": [
    {
     "data": {
      "text/plain": "     year   month   day   tmax   tavg   tmin   humid   wind   sunshine  \\\n25   2023       1    26    2.8   -2.0   -8.7    70.0    1.6        0.0   \n26   2023       1    27   -0.6   -4.2   -6.9    57.0    2.8        8.3   \n27   2023       1    28   -0.6   -4.6   -9.4    68.4    1.1        4.4   \n28   2023       1    29    5.5    0.6   -6.0    66.3    2.4        7.8   \n29   2023       1    30    5.6    0.3   -4.0    51.6    1.6        9.5   \n..    ...     ...   ...    ...    ...    ...     ...    ...        ...   \n359  2023      12    27    9.0    4.1    1.1    75.8    1.1        8.5   \n360  2023      12    28    7.4    2.8   -1.0    79.1    1.2        7.6   \n361  2023      12    29    7.9    2.6   -1.1    75.1    1.3        6.5   \n362  2023      12    30    9.1    4.0   -1.3    78.8    1.2        0.5   \n363  2023      12    31    9.1    5.8    4.0    81.5    2.9        0.0   \n\n      rainfall   snow   cloud  \n25         0.1    0.0     9.5  \n26         0.0    0.0     1.4  \n27         0.0    0.0     3.6  \n28         0.0    0.0     2.6  \n29         0.0    0.0     0.0  \n..         ...    ...     ...  \n359        0.0    0.0     2.3  \n360        0.0    0.0     0.3  \n361        0.0    0.0     1.9  \n362        1.1    0.0     7.1  \n363        1.9    0.0     9.4  \n\n[339 rows x 12 columns]",
      "text/html": "<div>\n<style scoped>\n    .dataframe tbody tr th:only-of-type {\n        vertical-align: middle;\n    }\n\n    .dataframe tbody tr th {\n        vertical-align: top;\n    }\n\n    .dataframe thead th {\n        text-align: right;\n    }\n</style>\n<table border=\"1\" class=\"dataframe\">\n  <thead>\n    <tr style=\"text-align: right;\">\n      <th></th>\n      <th>year</th>\n      <th>month</th>\n      <th>day</th>\n      <th>tmax</th>\n      <th>tavg</th>\n      <th>tmin</th>\n      <th>humid</th>\n      <th>wind</th>\n      <th>sunshine</th>\n      <th>rainfall</th>\n      <th>snow</th>\n      <th>cloud</th>\n    </tr>\n  </thead>\n  <tbody>\n    <tr>\n      <th>25</th>\n      <td>2023</td>\n      <td>1</td>\n      <td>26</td>\n      <td>2.8</td>\n      <td>-2.0</td>\n      <td>-8.7</td>\n      <td>70.0</td>\n      <td>1.6</td>\n      <td>0.0</td>\n      <td>0.1</td>\n      <td>0.0</td>\n      <td>9.5</td>\n    </tr>\n    <tr>\n      <th>26</th>\n      <td>2023</td>\n      <td>1</td>\n      <td>27</td>\n      <td>-0.6</td>\n      <td>-4.2</td>\n      <td>-6.9</td>\n      <td>57.0</td>\n      <td>2.8</td>\n      <td>8.3</td>\n      <td>0.0</td>\n      <td>0.0</td>\n      <td>1.4</td>\n    </tr>\n    <tr>\n      <th>27</th>\n      <td>2023</td>\n      <td>1</td>\n      <td>28</td>\n      <td>-0.6</td>\n      <td>-4.6</td>\n      <td>-9.4</td>\n      <td>68.4</td>\n      <td>1.1</td>\n      <td>4.4</td>\n      <td>0.0</td>\n      <td>0.0</td>\n      <td>3.6</td>\n    </tr>\n    <tr>\n      <th>28</th>\n      <td>2023</td>\n      <td>1</td>\n      <td>29</td>\n      <td>5.5</td>\n      <td>0.6</td>\n      <td>-6.0</td>\n      <td>66.3</td>\n      <td>2.4</td>\n      <td>7.8</td>\n      <td>0.0</td>\n      <td>0.0</td>\n      <td>2.6</td>\n    </tr>\n    <tr>\n      <th>29</th>\n      <td>2023</td>\n      <td>1</td>\n      <td>30</td>\n      <td>5.6</td>\n      <td>0.3</td>\n      <td>-4.0</td>\n      <td>51.6</td>\n      <td>1.6</td>\n      <td>9.5</td>\n      <td>0.0</td>\n      <td>0.0</td>\n      <td>0.0</td>\n    </tr>\n    <tr>\n      <th>...</th>\n      <td>...</td>\n      <td>...</td>\n      <td>...</td>\n      <td>...</td>\n      <td>...</td>\n      <td>...</td>\n      <td>...</td>\n      <td>...</td>\n      <td>...</td>\n      <td>...</td>\n      <td>...</td>\n      <td>...</td>\n    </tr>\n    <tr>\n      <th>359</th>\n      <td>2023</td>\n      <td>12</td>\n      <td>27</td>\n      <td>9.0</td>\n      <td>4.1</td>\n      <td>1.1</td>\n      <td>75.8</td>\n      <td>1.1</td>\n      <td>8.5</td>\n      <td>0.0</td>\n      <td>0.0</td>\n      <td>2.3</td>\n    </tr>\n    <tr>\n      <th>360</th>\n      <td>2023</td>\n      <td>12</td>\n      <td>28</td>\n      <td>7.4</td>\n      <td>2.8</td>\n      <td>-1.0</td>\n      <td>79.1</td>\n      <td>1.2</td>\n      <td>7.6</td>\n      <td>0.0</td>\n      <td>0.0</td>\n      <td>0.3</td>\n    </tr>\n    <tr>\n      <th>361</th>\n      <td>2023</td>\n      <td>12</td>\n      <td>29</td>\n      <td>7.9</td>\n      <td>2.6</td>\n      <td>-1.1</td>\n      <td>75.1</td>\n      <td>1.3</td>\n      <td>6.5</td>\n      <td>0.0</td>\n      <td>0.0</td>\n      <td>1.9</td>\n    </tr>\n    <tr>\n      <th>362</th>\n      <td>2023</td>\n      <td>12</td>\n      <td>30</td>\n      <td>9.1</td>\n      <td>4.0</td>\n      <td>-1.3</td>\n      <td>78.8</td>\n      <td>1.2</td>\n      <td>0.5</td>\n      <td>1.1</td>\n      <td>0.0</td>\n      <td>7.1</td>\n    </tr>\n    <tr>\n      <th>363</th>\n      <td>2023</td>\n      <td>12</td>\n      <td>31</td>\n      <td>9.1</td>\n      <td>5.8</td>\n      <td>4.0</td>\n      <td>81.5</td>\n      <td>2.9</td>\n      <td>0.0</td>\n      <td>1.9</td>\n      <td>0.0</td>\n      <td>9.4</td>\n    </tr>\n  </tbody>\n</table>\n<p>339 rows × 12 columns</p>\n</div>"
     },
     "execution_count": 8,
     "metadata": {},
     "output_type": "execute_result"
    }
   ],
   "source": [
    "df23"
   ],
   "metadata": {
    "collapsed": false
   }
  },
  {
   "cell_type": "code",
   "execution_count": 9,
   "outputs": [
    {
     "data": {
      "text/plain": "'2023년 4월 2일'"
     },
     "execution_count": 9,
     "metadata": {},
     "output_type": "execute_result"
    }
   ],
   "source": [
    "# 배 모델\n",
    "A = 107.94\n",
    "B = 0.9\n",
    "\n",
    "# DVRi\n",
    "df23['DVRi'] = df23[' tavg'].apply(lambda x: (1 / (107.94 * (0.9 ** x))) * 100 if x >= 5 else 0)\n",
    "\n",
    "# DVS\n",
    "df23['DVS'] = df23['DVRi'].cumsum()\n",
    "\n",
    "# DVS가 100일때가 언제인지?\n",
    "result = df23[df23['DVS'] > 100].iloc[0][['year', ' month', ' day']]\n",
    "blossom = f'{int(result[\"year\"])}년 {int(result[\" month\"])}월 {int(result[\" day\"])}일'\n",
    "\n",
    "blossom"
   ],
   "metadata": {
    "collapsed": false
   }
  },
  {
   "cell_type": "markdown",
   "source": [
    "## mDVR"
   ],
   "metadata": {
    "collapsed": false
   }
  },
  {
   "cell_type": "code",
   "execution_count": 10,
   "outputs": [
    {
     "data": {
      "text/plain": "   year   month   day   tmax   tavg   tmin   humid   wind   sunshine  \\\n0  2023       1     1    5.9    0.6   -3.0    62.0    1.6        6.7   \n1  2023       1     2    2.0   -1.8   -4.0    53.1    1.5        9.2   \n2  2023       1     3    2.9   -2.1   -7.2    65.5    1.6        9.3   \n3  2023       1     4    5.6    0.0   -5.4    66.0    1.5        7.8   \n4  2023       1     5    7.7    2.4   -2.6    70.3    1.1        6.2   \n\n    rainfall   snow   cloud  \n0        0.0    0.0     2.8  \n1        0.0    0.0     3.1  \n2        0.0    0.0     0.0  \n3        0.0    0.0     1.3  \n4        0.0    0.0     5.3  ",
      "text/html": "<div>\n<style scoped>\n    .dataframe tbody tr th:only-of-type {\n        vertical-align: middle;\n    }\n\n    .dataframe tbody tr th {\n        vertical-align: top;\n    }\n\n    .dataframe thead th {\n        text-align: right;\n    }\n</style>\n<table border=\"1\" class=\"dataframe\">\n  <thead>\n    <tr style=\"text-align: right;\">\n      <th></th>\n      <th>year</th>\n      <th>month</th>\n      <th>day</th>\n      <th>tmax</th>\n      <th>tavg</th>\n      <th>tmin</th>\n      <th>humid</th>\n      <th>wind</th>\n      <th>sunshine</th>\n      <th>rainfall</th>\n      <th>snow</th>\n      <th>cloud</th>\n    </tr>\n  </thead>\n  <tbody>\n    <tr>\n      <th>0</th>\n      <td>2023</td>\n      <td>1</td>\n      <td>1</td>\n      <td>5.9</td>\n      <td>0.6</td>\n      <td>-3.0</td>\n      <td>62.0</td>\n      <td>1.6</td>\n      <td>6.7</td>\n      <td>0.0</td>\n      <td>0.0</td>\n      <td>2.8</td>\n    </tr>\n    <tr>\n      <th>1</th>\n      <td>2023</td>\n      <td>1</td>\n      <td>2</td>\n      <td>2.0</td>\n      <td>-1.8</td>\n      <td>-4.0</td>\n      <td>53.1</td>\n      <td>1.5</td>\n      <td>9.2</td>\n      <td>0.0</td>\n      <td>0.0</td>\n      <td>3.1</td>\n    </tr>\n    <tr>\n      <th>2</th>\n      <td>2023</td>\n      <td>1</td>\n      <td>3</td>\n      <td>2.9</td>\n      <td>-2.1</td>\n      <td>-7.2</td>\n      <td>65.5</td>\n      <td>1.6</td>\n      <td>9.3</td>\n      <td>0.0</td>\n      <td>0.0</td>\n      <td>0.0</td>\n    </tr>\n    <tr>\n      <th>3</th>\n      <td>2023</td>\n      <td>1</td>\n      <td>4</td>\n      <td>5.6</td>\n      <td>0.0</td>\n      <td>-5.4</td>\n      <td>66.0</td>\n      <td>1.5</td>\n      <td>7.8</td>\n      <td>0.0</td>\n      <td>0.0</td>\n      <td>1.3</td>\n    </tr>\n    <tr>\n      <th>4</th>\n      <td>2023</td>\n      <td>1</td>\n      <td>5</td>\n      <td>7.7</td>\n      <td>2.4</td>\n      <td>-2.6</td>\n      <td>70.3</td>\n      <td>1.1</td>\n      <td>6.2</td>\n      <td>0.0</td>\n      <td>0.0</td>\n      <td>5.3</td>\n    </tr>\n  </tbody>\n</table>\n</div>"
     },
     "execution_count": 10,
     "metadata": {},
     "output_type": "execute_result"
    }
   ],
   "source": [
    "# API 이용하기\n",
    "year_s = 2023\n",
    "year_e = 2023\n",
    "station_code = 146\n",
    "url = f\"https://api.taegon.kr/stations/{station_code}/?sy={year_s}&ey={year_e}&format=csv\"\n",
    "\n",
    "# 데이터 프레임 만들기\n",
    "df23 = pd.read_csv(url)\n",
    "df23.head()"
   ],
   "metadata": {
    "collapsed": false
   }
  },
  {
   "cell_type": "code",
   "execution_count": 11,
   "outputs": [
    {
     "data": {
      "text/plain": "     year   month   day   tmax   tavg   tmin   humid   wind   sunshine  \\\n45   2023       2    15    8.5    3.0   -2.0    65.1    1.0        2.6   \n46   2023       2    16    6.3    3.3   -0.5    69.0    1.2        0.3   \n47   2023       2    17    7.4    4.2   -1.1    60.0    0.8        0.4   \n48   2023       2    18   10.0    7.2    5.3    61.1    0.7        0.0   \n49   2023       2    19    6.3    3.2   -0.7    73.8    2.8        5.1   \n..    ...     ...   ...    ...    ...    ...     ...    ...        ...   \n359  2023      12    27    9.0    4.1    1.1    75.8    1.1        8.5   \n360  2023      12    28    7.4    2.8   -1.0    79.1    1.2        7.6   \n361  2023      12    29    7.9    2.6   -1.1    75.1    1.3        6.5   \n362  2023      12    30    9.1    4.0   -1.3    78.8    1.2        0.5   \n363  2023      12    31    9.1    5.8    4.0    81.5    2.9        0.0   \n\n      rainfall   snow   cloud  \n45         0.0    0.0     7.6  \n46         0.0    0.0     6.4  \n47         0.0    0.0     9.0  \n48         0.9    0.0    10.0  \n49         2.9    0.0     5.3  \n..         ...    ...     ...  \n359        0.0    0.0     2.3  \n360        0.0    0.0     0.3  \n361        0.0    0.0     1.9  \n362        1.1    0.0     7.1  \n363        1.9    0.0     9.4  \n\n[319 rows x 12 columns]",
      "text/html": "<div>\n<style scoped>\n    .dataframe tbody tr th:only-of-type {\n        vertical-align: middle;\n    }\n\n    .dataframe tbody tr th {\n        vertical-align: top;\n    }\n\n    .dataframe thead th {\n        text-align: right;\n    }\n</style>\n<table border=\"1\" class=\"dataframe\">\n  <thead>\n    <tr style=\"text-align: right;\">\n      <th></th>\n      <th>year</th>\n      <th>month</th>\n      <th>day</th>\n      <th>tmax</th>\n      <th>tavg</th>\n      <th>tmin</th>\n      <th>humid</th>\n      <th>wind</th>\n      <th>sunshine</th>\n      <th>rainfall</th>\n      <th>snow</th>\n      <th>cloud</th>\n    </tr>\n  </thead>\n  <tbody>\n    <tr>\n      <th>45</th>\n      <td>2023</td>\n      <td>2</td>\n      <td>15</td>\n      <td>8.5</td>\n      <td>3.0</td>\n      <td>-2.0</td>\n      <td>65.1</td>\n      <td>1.0</td>\n      <td>2.6</td>\n      <td>0.0</td>\n      <td>0.0</td>\n      <td>7.6</td>\n    </tr>\n    <tr>\n      <th>46</th>\n      <td>2023</td>\n      <td>2</td>\n      <td>16</td>\n      <td>6.3</td>\n      <td>3.3</td>\n      <td>-0.5</td>\n      <td>69.0</td>\n      <td>1.2</td>\n      <td>0.3</td>\n      <td>0.0</td>\n      <td>0.0</td>\n      <td>6.4</td>\n    </tr>\n    <tr>\n      <th>47</th>\n      <td>2023</td>\n      <td>2</td>\n      <td>17</td>\n      <td>7.4</td>\n      <td>4.2</td>\n      <td>-1.1</td>\n      <td>60.0</td>\n      <td>0.8</td>\n      <td>0.4</td>\n      <td>0.0</td>\n      <td>0.0</td>\n      <td>9.0</td>\n    </tr>\n    <tr>\n      <th>48</th>\n      <td>2023</td>\n      <td>2</td>\n      <td>18</td>\n      <td>10.0</td>\n      <td>7.2</td>\n      <td>5.3</td>\n      <td>61.1</td>\n      <td>0.7</td>\n      <td>0.0</td>\n      <td>0.9</td>\n      <td>0.0</td>\n      <td>10.0</td>\n    </tr>\n    <tr>\n      <th>49</th>\n      <td>2023</td>\n      <td>2</td>\n      <td>19</td>\n      <td>6.3</td>\n      <td>3.2</td>\n      <td>-0.7</td>\n      <td>73.8</td>\n      <td>2.8</td>\n      <td>5.1</td>\n      <td>2.9</td>\n      <td>0.0</td>\n      <td>5.3</td>\n    </tr>\n    <tr>\n      <th>...</th>\n      <td>...</td>\n      <td>...</td>\n      <td>...</td>\n      <td>...</td>\n      <td>...</td>\n      <td>...</td>\n      <td>...</td>\n      <td>...</td>\n      <td>...</td>\n      <td>...</td>\n      <td>...</td>\n      <td>...</td>\n    </tr>\n    <tr>\n      <th>359</th>\n      <td>2023</td>\n      <td>12</td>\n      <td>27</td>\n      <td>9.0</td>\n      <td>4.1</td>\n      <td>1.1</td>\n      <td>75.8</td>\n      <td>1.1</td>\n      <td>8.5</td>\n      <td>0.0</td>\n      <td>0.0</td>\n      <td>2.3</td>\n    </tr>\n    <tr>\n      <th>360</th>\n      <td>2023</td>\n      <td>12</td>\n      <td>28</td>\n      <td>7.4</td>\n      <td>2.8</td>\n      <td>-1.0</td>\n      <td>79.1</td>\n      <td>1.2</td>\n      <td>7.6</td>\n      <td>0.0</td>\n      <td>0.0</td>\n      <td>0.3</td>\n    </tr>\n    <tr>\n      <th>361</th>\n      <td>2023</td>\n      <td>12</td>\n      <td>29</td>\n      <td>7.9</td>\n      <td>2.6</td>\n      <td>-1.1</td>\n      <td>75.1</td>\n      <td>1.3</td>\n      <td>6.5</td>\n      <td>0.0</td>\n      <td>0.0</td>\n      <td>1.9</td>\n    </tr>\n    <tr>\n      <th>362</th>\n      <td>2023</td>\n      <td>12</td>\n      <td>30</td>\n      <td>9.1</td>\n      <td>4.0</td>\n      <td>-1.3</td>\n      <td>78.8</td>\n      <td>1.2</td>\n      <td>0.5</td>\n      <td>1.1</td>\n      <td>0.0</td>\n      <td>7.1</td>\n    </tr>\n    <tr>\n      <th>363</th>\n      <td>2023</td>\n      <td>12</td>\n      <td>31</td>\n      <td>9.1</td>\n      <td>5.8</td>\n      <td>4.0</td>\n      <td>81.5</td>\n      <td>2.9</td>\n      <td>0.0</td>\n      <td>1.9</td>\n      <td>0.0</td>\n      <td>9.4</td>\n    </tr>\n  </tbody>\n</table>\n<p>319 rows × 12 columns</p>\n</div>"
     },
     "execution_count": 11,
     "metadata": {},
     "output_type": "execute_result"
    }
   ],
   "source": [
    "df23 = df23[:][45:]\n",
    "df23"
   ],
   "metadata": {
    "collapsed": false
   }
  },
  {
   "cell_type": "code",
   "execution_count": 12,
   "outputs": [],
   "source": [],
   "metadata": {
    "collapsed": false
   }
  },
  {
   "cell_type": "code",
   "execution_count": 26,
   "outputs": [
    {
     "data": {
      "text/plain": "     year   month   day   tmax   tmin   temp_0h   temp_1h   temp_2h   temp_3h  \\\n45   2023       2    15    8.5   -2.0       NaN       NaN       NaN       NaN   \n46   2023       2    16    6.3   -0.5  0.988912  0.359424 -0.110955 -0.401664   \n47   2023       2    17    7.4   -1.1  0.124217 -0.393363 -0.780118 -1.019146   \n48   2023       2    18   10.0    5.3  5.647413  5.500532  5.390777  5.322945   \n49   2023       2    19    6.3   -0.7  1.070151  0.321759 -0.237468 -0.583090   \n..    ...     ...   ...    ...    ...       ...       ...       ...       ...   \n359  2023      12    27    9.0    1.1  2.208412  1.739793  1.389623  1.173206   \n360  2023      12    28    7.4   -1.0  0.654347 -0.045085 -0.567727 -0.890738   \n361  2023      12    29    7.9   -1.1  0.306195 -0.288322 -0.732568 -1.007127   \n362  2023      12    30    9.1   -1.3  0.221999 -0.421478 -0.902309 -1.199479   \n363  2023      12    31    9.1    4.0  4.843717  4.487007  4.220459  4.055724   \n\n     temp_4h  ...  temp_14h  temp_15h  temp_16h  temp_17h  temp_18h  temp_19h  \\\n45      -2.0  ...  8.401664  8.110955  7.640576  7.011088     6.250  5.390576   \n46      -0.5  ...  6.219146  5.980118  5.593363  5.075783     4.450  3.743363   \n47      -1.1  ...  7.377055  7.309223  7.199468  7.052587     6.875  6.674468   \n48       5.3  ...  9.883090  9.537468  8.978241  8.229849     7.325  6.303241   \n49      -0.7  ...  6.196201  5.889341  5.392831  4.728370     3.925  3.017831   \n..       ...  ...       ...       ...       ...       ...       ...       ...   \n359      1.1  ...  8.890738  8.567727  8.045085  7.345653     6.500  5.545085   \n360     -1.0  ...  7.307127  7.032568  6.588322  5.993805     5.275  4.463322   \n361     -1.1  ...  7.799479  7.502309  7.021478  6.378001     5.600  4.721478   \n362     -1.3  ...  9.044276  8.879541  8.612993  8.256283     7.825  7.337993   \n363      4.0  ...       NaN       NaN       NaN       NaN       NaN       NaN   \n\n     temp_20h  temp_21h  temp_22h  temp_23h  \n45   4.470378  3.529622  2.609424     1.750  \n46   2.986755  2.213245  1.456637     0.750  \n47   6.459755  6.240245  6.025532     5.825  \n48   5.209227  4.090773  2.996759     1.975  \n49   2.046510  1.053490  0.082169    -0.825  \n..        ...       ...       ...       ...  \n359  4.522642  3.477358  2.454915     1.500  \n360  3.594246  2.705754  1.836678     1.025  \n361  3.780831  2.819169  1.878522     1.000  \n362  6.816548  6.283452  5.762007     5.275  \n363       NaN       NaN       NaN       NaN  \n\n[319 rows x 29 columns]",
      "text/html": "<div>\n<style scoped>\n    .dataframe tbody tr th:only-of-type {\n        vertical-align: middle;\n    }\n\n    .dataframe tbody tr th {\n        vertical-align: top;\n    }\n\n    .dataframe thead th {\n        text-align: right;\n    }\n</style>\n<table border=\"1\" class=\"dataframe\">\n  <thead>\n    <tr style=\"text-align: right;\">\n      <th></th>\n      <th>year</th>\n      <th>month</th>\n      <th>day</th>\n      <th>tmax</th>\n      <th>tmin</th>\n      <th>temp_0h</th>\n      <th>temp_1h</th>\n      <th>temp_2h</th>\n      <th>temp_3h</th>\n      <th>temp_4h</th>\n      <th>...</th>\n      <th>temp_14h</th>\n      <th>temp_15h</th>\n      <th>temp_16h</th>\n      <th>temp_17h</th>\n      <th>temp_18h</th>\n      <th>temp_19h</th>\n      <th>temp_20h</th>\n      <th>temp_21h</th>\n      <th>temp_22h</th>\n      <th>temp_23h</th>\n    </tr>\n  </thead>\n  <tbody>\n    <tr>\n      <th>45</th>\n      <td>2023</td>\n      <td>2</td>\n      <td>15</td>\n      <td>8.5</td>\n      <td>-2.0</td>\n      <td>NaN</td>\n      <td>NaN</td>\n      <td>NaN</td>\n      <td>NaN</td>\n      <td>-2.0</td>\n      <td>...</td>\n      <td>8.401664</td>\n      <td>8.110955</td>\n      <td>7.640576</td>\n      <td>7.011088</td>\n      <td>6.250</td>\n      <td>5.390576</td>\n      <td>4.470378</td>\n      <td>3.529622</td>\n      <td>2.609424</td>\n      <td>1.750</td>\n    </tr>\n    <tr>\n      <th>46</th>\n      <td>2023</td>\n      <td>2</td>\n      <td>16</td>\n      <td>6.3</td>\n      <td>-0.5</td>\n      <td>0.988912</td>\n      <td>0.359424</td>\n      <td>-0.110955</td>\n      <td>-0.401664</td>\n      <td>-0.5</td>\n      <td>...</td>\n      <td>6.219146</td>\n      <td>5.980118</td>\n      <td>5.593363</td>\n      <td>5.075783</td>\n      <td>4.450</td>\n      <td>3.743363</td>\n      <td>2.986755</td>\n      <td>2.213245</td>\n      <td>1.456637</td>\n      <td>0.750</td>\n    </tr>\n    <tr>\n      <th>47</th>\n      <td>2023</td>\n      <td>2</td>\n      <td>17</td>\n      <td>7.4</td>\n      <td>-1.1</td>\n      <td>0.124217</td>\n      <td>-0.393363</td>\n      <td>-0.780118</td>\n      <td>-1.019146</td>\n      <td>-1.1</td>\n      <td>...</td>\n      <td>7.377055</td>\n      <td>7.309223</td>\n      <td>7.199468</td>\n      <td>7.052587</td>\n      <td>6.875</td>\n      <td>6.674468</td>\n      <td>6.459755</td>\n      <td>6.240245</td>\n      <td>6.025532</td>\n      <td>5.825</td>\n    </tr>\n    <tr>\n      <th>48</th>\n      <td>2023</td>\n      <td>2</td>\n      <td>18</td>\n      <td>10.0</td>\n      <td>5.3</td>\n      <td>5.647413</td>\n      <td>5.500532</td>\n      <td>5.390777</td>\n      <td>5.322945</td>\n      <td>5.3</td>\n      <td>...</td>\n      <td>9.883090</td>\n      <td>9.537468</td>\n      <td>8.978241</td>\n      <td>8.229849</td>\n      <td>7.325</td>\n      <td>6.303241</td>\n      <td>5.209227</td>\n      <td>4.090773</td>\n      <td>2.996759</td>\n      <td>1.975</td>\n    </tr>\n    <tr>\n      <th>49</th>\n      <td>2023</td>\n      <td>2</td>\n      <td>19</td>\n      <td>6.3</td>\n      <td>-0.7</td>\n      <td>1.070151</td>\n      <td>0.321759</td>\n      <td>-0.237468</td>\n      <td>-0.583090</td>\n      <td>-0.7</td>\n      <td>...</td>\n      <td>6.196201</td>\n      <td>5.889341</td>\n      <td>5.392831</td>\n      <td>4.728370</td>\n      <td>3.925</td>\n      <td>3.017831</td>\n      <td>2.046510</td>\n      <td>1.053490</td>\n      <td>0.082169</td>\n      <td>-0.825</td>\n    </tr>\n    <tr>\n      <th>...</th>\n      <td>...</td>\n      <td>...</td>\n      <td>...</td>\n      <td>...</td>\n      <td>...</td>\n      <td>...</td>\n      <td>...</td>\n      <td>...</td>\n      <td>...</td>\n      <td>...</td>\n      <td>...</td>\n      <td>...</td>\n      <td>...</td>\n      <td>...</td>\n      <td>...</td>\n      <td>...</td>\n      <td>...</td>\n      <td>...</td>\n      <td>...</td>\n      <td>...</td>\n      <td>...</td>\n    </tr>\n    <tr>\n      <th>359</th>\n      <td>2023</td>\n      <td>12</td>\n      <td>27</td>\n      <td>9.0</td>\n      <td>1.1</td>\n      <td>2.208412</td>\n      <td>1.739793</td>\n      <td>1.389623</td>\n      <td>1.173206</td>\n      <td>1.1</td>\n      <td>...</td>\n      <td>8.890738</td>\n      <td>8.567727</td>\n      <td>8.045085</td>\n      <td>7.345653</td>\n      <td>6.500</td>\n      <td>5.545085</td>\n      <td>4.522642</td>\n      <td>3.477358</td>\n      <td>2.454915</td>\n      <td>1.500</td>\n    </tr>\n    <tr>\n      <th>360</th>\n      <td>2023</td>\n      <td>12</td>\n      <td>28</td>\n      <td>7.4</td>\n      <td>-1.0</td>\n      <td>0.654347</td>\n      <td>-0.045085</td>\n      <td>-0.567727</td>\n      <td>-0.890738</td>\n      <td>-1.0</td>\n      <td>...</td>\n      <td>7.307127</td>\n      <td>7.032568</td>\n      <td>6.588322</td>\n      <td>5.993805</td>\n      <td>5.275</td>\n      <td>4.463322</td>\n      <td>3.594246</td>\n      <td>2.705754</td>\n      <td>1.836678</td>\n      <td>1.025</td>\n    </tr>\n    <tr>\n      <th>361</th>\n      <td>2023</td>\n      <td>12</td>\n      <td>29</td>\n      <td>7.9</td>\n      <td>-1.1</td>\n      <td>0.306195</td>\n      <td>-0.288322</td>\n      <td>-0.732568</td>\n      <td>-1.007127</td>\n      <td>-1.1</td>\n      <td>...</td>\n      <td>7.799479</td>\n      <td>7.502309</td>\n      <td>7.021478</td>\n      <td>6.378001</td>\n      <td>5.600</td>\n      <td>4.721478</td>\n      <td>3.780831</td>\n      <td>2.819169</td>\n      <td>1.878522</td>\n      <td>1.000</td>\n    </tr>\n    <tr>\n      <th>362</th>\n      <td>2023</td>\n      <td>12</td>\n      <td>30</td>\n      <td>9.1</td>\n      <td>-1.3</td>\n      <td>0.221999</td>\n      <td>-0.421478</td>\n      <td>-0.902309</td>\n      <td>-1.199479</td>\n      <td>-1.3</td>\n      <td>...</td>\n      <td>9.044276</td>\n      <td>8.879541</td>\n      <td>8.612993</td>\n      <td>8.256283</td>\n      <td>7.825</td>\n      <td>7.337993</td>\n      <td>6.816548</td>\n      <td>6.283452</td>\n      <td>5.762007</td>\n      <td>5.275</td>\n    </tr>\n    <tr>\n      <th>363</th>\n      <td>2023</td>\n      <td>12</td>\n      <td>31</td>\n      <td>9.1</td>\n      <td>4.0</td>\n      <td>4.843717</td>\n      <td>4.487007</td>\n      <td>4.220459</td>\n      <td>4.055724</td>\n      <td>4.0</td>\n      <td>...</td>\n      <td>NaN</td>\n      <td>NaN</td>\n      <td>NaN</td>\n      <td>NaN</td>\n      <td>NaN</td>\n      <td>NaN</td>\n      <td>NaN</td>\n      <td>NaN</td>\n      <td>NaN</td>\n      <td>NaN</td>\n    </tr>\n  </tbody>\n</table>\n<p>319 rows × 29 columns</p>\n</div>"
     },
     "execution_count": 26,
     "metadata": {},
     "output_type": "execute_result"
    }
   ],
   "source": [
    "import numpy as np\n",
    "\n",
    "df23['tmax_yesterday'] = df23[' tmax'].shift(1)  # 전날의 최고기온\n",
    "df23['tmin_tomorrow'] = df23[' tmin'].shift(-1)  # 다음날의 최저기온\n",
    "\n",
    "# 시간대별 온도 계산하는 함수\n",
    "def calculate_hourly_temperature(row, hour):\n",
    "    m = row[' tmin']  # 현재의 최저기온\n",
    "    h = row[' tmax']  # 현재의 최고기온\n",
    "    hy = row['tmax_yesterday']  # 전날의 최고기온\n",
    "    mt = row['tmin_tomorrow']  # 다음날의 최저기온\n",
    "\n",
    "    if 0 <= hour <= 3:\n",
    "        return (hy - m) * (np.sin((4 - hour) * np.pi / 30) ** 2) + m\n",
    "    elif 4 <= hour <= 13:\n",
    "        return (h - m) * (np.sin((hour - 4) * np.pi / 18) ** 2) + m\n",
    "    elif 14 <= hour <= 23:\n",
    "        return (h - mt) * (np.sin((28 - hour) * np.pi / 30) ** 2) + mt\n",
    "    else:\n",
    "        return np.nan\n",
    "\n",
    "# 각 시간별로 온도를 계산하여 새로운 컬럼 추가\n",
    "for hour in range(24):\n",
    "    df23[f'temp_{hour}h'] = df23.apply(lambda row: calculate_hourly_temperature(row, hour), axis=1)\n",
    "\n",
    "# 결과 출력\n",
    "df23[['year', ' month', ' day', ' tmax', ' tmin'] + [f'temp_{i}h' for i in range(24)]]\n",
    "\n",
    "for i in range(24):\n",
    "    df23[f'temp_{i}h'] = df23[f'temp_{i}h'].apply(\n",
    "        lambda x: np.exp(35.27 - 12094 * (x + 273) ** -1) if x < 20 else np.exp(5.82 - 3474 * (x + 273) ** -1))\n",
    "df23['cumsum_temp'] = df23.loc[:, 'temp_0h':'temp_23h'].sum(axis=1)\n",
    "df23['cumsum_dvr2'] = df23['cumsum_temp'].cumsum()\n",
    "\n",
    "result = df23[df23['cumsum_dvr2'] >= 0.9593].iloc[0]\n",
    "blossom = f'{int(result[\"year\"])}년 {int(result[\" month\"])}월 {int(result[\" day\"])}일'\n",
    "\n",
    "blossom"
   ],
   "metadata": {
    "collapsed": false
   }
  },
  {
   "cell_type": "code",
   "execution_count": 14,
   "outputs": [
    {
     "data": {
      "text/plain": "     year   month   day   tmax   tmin   temp_0h   temp_1h   temp_2h   temp_3h  \\\n45   2023       2    15    8.5   -2.0       NaN       NaN       NaN       NaN   \n46   2023       2    16    6.3   -0.5  0.988912  0.359424 -0.110955 -0.401664   \n47   2023       2    17    7.4   -1.1  0.124217 -0.393363 -0.780118 -1.019146   \n48   2023       2    18   10.0    5.3  5.647413  5.500532  5.390777  5.322945   \n49   2023       2    19    6.3   -0.7  1.070151  0.321759 -0.237468 -0.583090   \n..    ...     ...   ...    ...    ...       ...       ...       ...       ...   \n359  2023      12    27    9.0    1.1  2.208412  1.739793  1.389623  1.173206   \n360  2023      12    28    7.4   -1.0  0.654347 -0.045085 -0.567727 -0.890738   \n361  2023      12    29    7.9   -1.1  0.306195 -0.288322 -0.732568 -1.007127   \n362  2023      12    30    9.1   -1.3  0.221999 -0.421478 -0.902309 -1.199479   \n363  2023      12    31    9.1    4.0  4.843717  4.487007  4.220459  4.055724   \n\n     temp_4h  ...  temp_14h  temp_15h  temp_16h  temp_17h  temp_18h  temp_19h  \\\n45      -2.0  ...  8.401664  8.110955  7.640576  7.011088     6.250  5.390576   \n46      -0.5  ...  6.219146  5.980118  5.593363  5.075783     4.450  3.743363   \n47      -1.1  ...  7.377055  7.309223  7.199468  7.052587     6.875  6.674468   \n48       5.3  ...  9.883090  9.537468  8.978241  8.229849     7.325  6.303241   \n49      -0.7  ...  6.196201  5.889341  5.392831  4.728370     3.925  3.017831   \n..       ...  ...       ...       ...       ...       ...       ...       ...   \n359      1.1  ...  8.890738  8.567727  8.045085  7.345653     6.500  5.545085   \n360     -1.0  ...  7.307127  7.032568  6.588322  5.993805     5.275  4.463322   \n361     -1.1  ...  7.799479  7.502309  7.021478  6.378001     5.600  4.721478   \n362     -1.3  ...  9.044276  8.879541  8.612993  8.256283     7.825  7.337993   \n363      4.0  ...       NaN       NaN       NaN       NaN       NaN       NaN   \n\n     temp_20h  temp_21h  temp_22h  temp_23h  \n45   4.470378  3.529622  2.609424     1.750  \n46   2.986755  2.213245  1.456637     0.750  \n47   6.459755  6.240245  6.025532     5.825  \n48   5.209227  4.090773  2.996759     1.975  \n49   2.046510  1.053490  0.082169    -0.825  \n..        ...       ...       ...       ...  \n359  4.522642  3.477358  2.454915     1.500  \n360  3.594246  2.705754  1.836678     1.025  \n361  3.780831  2.819169  1.878522     1.000  \n362  6.816548  6.283452  5.762007     5.275  \n363       NaN       NaN       NaN       NaN  \n\n[319 rows x 29 columns]",
      "text/html": "<div>\n<style scoped>\n    .dataframe tbody tr th:only-of-type {\n        vertical-align: middle;\n    }\n\n    .dataframe tbody tr th {\n        vertical-align: top;\n    }\n\n    .dataframe thead th {\n        text-align: right;\n    }\n</style>\n<table border=\"1\" class=\"dataframe\">\n  <thead>\n    <tr style=\"text-align: right;\">\n      <th></th>\n      <th>year</th>\n      <th>month</th>\n      <th>day</th>\n      <th>tmax</th>\n      <th>tmin</th>\n      <th>temp_0h</th>\n      <th>temp_1h</th>\n      <th>temp_2h</th>\n      <th>temp_3h</th>\n      <th>temp_4h</th>\n      <th>...</th>\n      <th>temp_14h</th>\n      <th>temp_15h</th>\n      <th>temp_16h</th>\n      <th>temp_17h</th>\n      <th>temp_18h</th>\n      <th>temp_19h</th>\n      <th>temp_20h</th>\n      <th>temp_21h</th>\n      <th>temp_22h</th>\n      <th>temp_23h</th>\n    </tr>\n  </thead>\n  <tbody>\n    <tr>\n      <th>45</th>\n      <td>2023</td>\n      <td>2</td>\n      <td>15</td>\n      <td>8.5</td>\n      <td>-2.0</td>\n      <td>NaN</td>\n      <td>NaN</td>\n      <td>NaN</td>\n      <td>NaN</td>\n      <td>-2.0</td>\n      <td>...</td>\n      <td>8.401664</td>\n      <td>8.110955</td>\n      <td>7.640576</td>\n      <td>7.011088</td>\n      <td>6.250</td>\n      <td>5.390576</td>\n      <td>4.470378</td>\n      <td>3.529622</td>\n      <td>2.609424</td>\n      <td>1.750</td>\n    </tr>\n    <tr>\n      <th>46</th>\n      <td>2023</td>\n      <td>2</td>\n      <td>16</td>\n      <td>6.3</td>\n      <td>-0.5</td>\n      <td>0.988912</td>\n      <td>0.359424</td>\n      <td>-0.110955</td>\n      <td>-0.401664</td>\n      <td>-0.5</td>\n      <td>...</td>\n      <td>6.219146</td>\n      <td>5.980118</td>\n      <td>5.593363</td>\n      <td>5.075783</td>\n      <td>4.450</td>\n      <td>3.743363</td>\n      <td>2.986755</td>\n      <td>2.213245</td>\n      <td>1.456637</td>\n      <td>0.750</td>\n    </tr>\n    <tr>\n      <th>47</th>\n      <td>2023</td>\n      <td>2</td>\n      <td>17</td>\n      <td>7.4</td>\n      <td>-1.1</td>\n      <td>0.124217</td>\n      <td>-0.393363</td>\n      <td>-0.780118</td>\n      <td>-1.019146</td>\n      <td>-1.1</td>\n      <td>...</td>\n      <td>7.377055</td>\n      <td>7.309223</td>\n      <td>7.199468</td>\n      <td>7.052587</td>\n      <td>6.875</td>\n      <td>6.674468</td>\n      <td>6.459755</td>\n      <td>6.240245</td>\n      <td>6.025532</td>\n      <td>5.825</td>\n    </tr>\n    <tr>\n      <th>48</th>\n      <td>2023</td>\n      <td>2</td>\n      <td>18</td>\n      <td>10.0</td>\n      <td>5.3</td>\n      <td>5.647413</td>\n      <td>5.500532</td>\n      <td>5.390777</td>\n      <td>5.322945</td>\n      <td>5.3</td>\n      <td>...</td>\n      <td>9.883090</td>\n      <td>9.537468</td>\n      <td>8.978241</td>\n      <td>8.229849</td>\n      <td>7.325</td>\n      <td>6.303241</td>\n      <td>5.209227</td>\n      <td>4.090773</td>\n      <td>2.996759</td>\n      <td>1.975</td>\n    </tr>\n    <tr>\n      <th>49</th>\n      <td>2023</td>\n      <td>2</td>\n      <td>19</td>\n      <td>6.3</td>\n      <td>-0.7</td>\n      <td>1.070151</td>\n      <td>0.321759</td>\n      <td>-0.237468</td>\n      <td>-0.583090</td>\n      <td>-0.7</td>\n      <td>...</td>\n      <td>6.196201</td>\n      <td>5.889341</td>\n      <td>5.392831</td>\n      <td>4.728370</td>\n      <td>3.925</td>\n      <td>3.017831</td>\n      <td>2.046510</td>\n      <td>1.053490</td>\n      <td>0.082169</td>\n      <td>-0.825</td>\n    </tr>\n    <tr>\n      <th>...</th>\n      <td>...</td>\n      <td>...</td>\n      <td>...</td>\n      <td>...</td>\n      <td>...</td>\n      <td>...</td>\n      <td>...</td>\n      <td>...</td>\n      <td>...</td>\n      <td>...</td>\n      <td>...</td>\n      <td>...</td>\n      <td>...</td>\n      <td>...</td>\n      <td>...</td>\n      <td>...</td>\n      <td>...</td>\n      <td>...</td>\n      <td>...</td>\n      <td>...</td>\n      <td>...</td>\n    </tr>\n    <tr>\n      <th>359</th>\n      <td>2023</td>\n      <td>12</td>\n      <td>27</td>\n      <td>9.0</td>\n      <td>1.1</td>\n      <td>2.208412</td>\n      <td>1.739793</td>\n      <td>1.389623</td>\n      <td>1.173206</td>\n      <td>1.1</td>\n      <td>...</td>\n      <td>8.890738</td>\n      <td>8.567727</td>\n      <td>8.045085</td>\n      <td>7.345653</td>\n      <td>6.500</td>\n      <td>5.545085</td>\n      <td>4.522642</td>\n      <td>3.477358</td>\n      <td>2.454915</td>\n      <td>1.500</td>\n    </tr>\n    <tr>\n      <th>360</th>\n      <td>2023</td>\n      <td>12</td>\n      <td>28</td>\n      <td>7.4</td>\n      <td>-1.0</td>\n      <td>0.654347</td>\n      <td>-0.045085</td>\n      <td>-0.567727</td>\n      <td>-0.890738</td>\n      <td>-1.0</td>\n      <td>...</td>\n      <td>7.307127</td>\n      <td>7.032568</td>\n      <td>6.588322</td>\n      <td>5.993805</td>\n      <td>5.275</td>\n      <td>4.463322</td>\n      <td>3.594246</td>\n      <td>2.705754</td>\n      <td>1.836678</td>\n      <td>1.025</td>\n    </tr>\n    <tr>\n      <th>361</th>\n      <td>2023</td>\n      <td>12</td>\n      <td>29</td>\n      <td>7.9</td>\n      <td>-1.1</td>\n      <td>0.306195</td>\n      <td>-0.288322</td>\n      <td>-0.732568</td>\n      <td>-1.007127</td>\n      <td>-1.1</td>\n      <td>...</td>\n      <td>7.799479</td>\n      <td>7.502309</td>\n      <td>7.021478</td>\n      <td>6.378001</td>\n      <td>5.600</td>\n      <td>4.721478</td>\n      <td>3.780831</td>\n      <td>2.819169</td>\n      <td>1.878522</td>\n      <td>1.000</td>\n    </tr>\n    <tr>\n      <th>362</th>\n      <td>2023</td>\n      <td>12</td>\n      <td>30</td>\n      <td>9.1</td>\n      <td>-1.3</td>\n      <td>0.221999</td>\n      <td>-0.421478</td>\n      <td>-0.902309</td>\n      <td>-1.199479</td>\n      <td>-1.3</td>\n      <td>...</td>\n      <td>9.044276</td>\n      <td>8.879541</td>\n      <td>8.612993</td>\n      <td>8.256283</td>\n      <td>7.825</td>\n      <td>7.337993</td>\n      <td>6.816548</td>\n      <td>6.283452</td>\n      <td>5.762007</td>\n      <td>5.275</td>\n    </tr>\n    <tr>\n      <th>363</th>\n      <td>2023</td>\n      <td>12</td>\n      <td>31</td>\n      <td>9.1</td>\n      <td>4.0</td>\n      <td>4.843717</td>\n      <td>4.487007</td>\n      <td>4.220459</td>\n      <td>4.055724</td>\n      <td>4.0</td>\n      <td>...</td>\n      <td>NaN</td>\n      <td>NaN</td>\n      <td>NaN</td>\n      <td>NaN</td>\n      <td>NaN</td>\n      <td>NaN</td>\n      <td>NaN</td>\n      <td>NaN</td>\n      <td>NaN</td>\n      <td>NaN</td>\n    </tr>\n  </tbody>\n</table>\n<p>319 rows × 29 columns</p>\n</div>"
     },
     "execution_count": 14,
     "metadata": {},
     "output_type": "execute_result"
    }
   ],
   "source": [],
   "metadata": {
    "collapsed": false
   }
  },
  {
   "cell_type": "code",
   "execution_count": 15,
   "outputs": [
    {
     "data": {
      "text/plain": "'2023년 4월 6일'"
     },
     "execution_count": 15,
     "metadata": {},
     "output_type": "execute_result"
    }
   ],
   "source": [
    "for i in range(24):\n",
    "    df23[f'temp_{i}h'] = df23[f'temp_{i}h'].apply(\n",
    "        lambda x: np.exp(35.27 - 12094 * (x + 273) ** -1) if x < 20 else np.exp(5.82 - 3474 * (x + 273) ** -1))\n",
    "df23['cumsum_temp'] = df23.loc[:, 'temp_0h':'temp_23h'].sum(axis=1)\n",
    "df23['cumsum_dvr2'] = df23['cumsum_temp'].cumsum()\n",
    "\n",
    "result = df23[df23['cumsum_dvr2'] >= 0.9593].iloc[0]\n",
    "blossom = f'{int(result[\"year\"])}년 {int(result[\" month\"])}월 {int(result[\" day\"])}일'\n",
    "\n",
    "blossom"
   ],
   "metadata": {
    "collapsed": false
   }
  },
  {
   "cell_type": "markdown",
   "source": [
    "## CD"
   ],
   "metadata": {
    "collapsed": false
   }
  },
  {
   "cell_type": "code",
   "execution_count": 27,
   "outputs": [
    {
     "data": {
      "text/plain": "   year   month   day   tmax   tavg   tmin   humid   wind   sunshine  \\\n0  2023       1     1    5.9    0.6   -3.0    62.0    1.6        6.7   \n1  2023       1     2    2.0   -1.8   -4.0    53.1    1.5        9.2   \n2  2023       1     3    2.9   -2.1   -7.2    65.5    1.6        9.3   \n3  2023       1     4    5.6    0.0   -5.4    66.0    1.5        7.8   \n4  2023       1     5    7.7    2.4   -2.6    70.3    1.1        6.2   \n\n    rainfall   snow   cloud  \n0        0.0    0.0     2.8  \n1        0.0    0.0     3.1  \n2        0.0    0.0     0.0  \n3        0.0    0.0     1.3  \n4        0.0    0.0     5.3  ",
      "text/html": "<div>\n<style scoped>\n    .dataframe tbody tr th:only-of-type {\n        vertical-align: middle;\n    }\n\n    .dataframe tbody tr th {\n        vertical-align: top;\n    }\n\n    .dataframe thead th {\n        text-align: right;\n    }\n</style>\n<table border=\"1\" class=\"dataframe\">\n  <thead>\n    <tr style=\"text-align: right;\">\n      <th></th>\n      <th>year</th>\n      <th>month</th>\n      <th>day</th>\n      <th>tmax</th>\n      <th>tavg</th>\n      <th>tmin</th>\n      <th>humid</th>\n      <th>wind</th>\n      <th>sunshine</th>\n      <th>rainfall</th>\n      <th>snow</th>\n      <th>cloud</th>\n    </tr>\n  </thead>\n  <tbody>\n    <tr>\n      <th>0</th>\n      <td>2023</td>\n      <td>1</td>\n      <td>1</td>\n      <td>5.9</td>\n      <td>0.6</td>\n      <td>-3.0</td>\n      <td>62.0</td>\n      <td>1.6</td>\n      <td>6.7</td>\n      <td>0.0</td>\n      <td>0.0</td>\n      <td>2.8</td>\n    </tr>\n    <tr>\n      <th>1</th>\n      <td>2023</td>\n      <td>1</td>\n      <td>2</td>\n      <td>2.0</td>\n      <td>-1.8</td>\n      <td>-4.0</td>\n      <td>53.1</td>\n      <td>1.5</td>\n      <td>9.2</td>\n      <td>0.0</td>\n      <td>0.0</td>\n      <td>3.1</td>\n    </tr>\n    <tr>\n      <th>2</th>\n      <td>2023</td>\n      <td>1</td>\n      <td>3</td>\n      <td>2.9</td>\n      <td>-2.1</td>\n      <td>-7.2</td>\n      <td>65.5</td>\n      <td>1.6</td>\n      <td>9.3</td>\n      <td>0.0</td>\n      <td>0.0</td>\n      <td>0.0</td>\n    </tr>\n    <tr>\n      <th>3</th>\n      <td>2023</td>\n      <td>1</td>\n      <td>4</td>\n      <td>5.6</td>\n      <td>0.0</td>\n      <td>-5.4</td>\n      <td>66.0</td>\n      <td>1.5</td>\n      <td>7.8</td>\n      <td>0.0</td>\n      <td>0.0</td>\n      <td>1.3</td>\n    </tr>\n    <tr>\n      <th>4</th>\n      <td>2023</td>\n      <td>1</td>\n      <td>5</td>\n      <td>7.7</td>\n      <td>2.4</td>\n      <td>-2.6</td>\n      <td>70.3</td>\n      <td>1.1</td>\n      <td>6.2</td>\n      <td>0.0</td>\n      <td>0.0</td>\n      <td>5.3</td>\n    </tr>\n  </tbody>\n</table>\n</div>"
     },
     "execution_count": 27,
     "metadata": {},
     "output_type": "execute_result"
    }
   ],
   "source": [
    "# API 이용하기\n",
    "year_s = 2023\n",
    "year_e = 2024\n",
    "station_code = 146\n",
    "url = f\"https://api.taegon.kr/stations/{station_code}/?sy={year_s}&ey={year_e}&format=csv\"\n",
    "\n",
    "# 데이터 프레임 만들기\n",
    "df23 = pd.read_csv(url)\n",
    "df23.head()"
   ],
   "metadata": {
    "collapsed": false
   }
  },
  {
   "cell_type": "code",
   "execution_count": 17,
   "outputs": [
    {
     "data": {
      "text/plain": "     year   month   day   tmax   tavg   tmin   humid   wind   sunshine  \\\n45   2023       2    15    8.5    3.0   -2.0    65.1    1.0        2.6   \n46   2023       2    16    6.3    3.3   -0.5    69.0    1.2        0.3   \n47   2023       2    17    7.4    4.2   -1.1    60.0    0.8        0.4   \n48   2023       2    18   10.0    7.2    5.3    61.1    0.7        0.0   \n49   2023       2    19    6.3    3.2   -0.7    73.8    2.8        5.1   \n..    ...     ...   ...    ...    ...    ...     ...    ...        ...   \n359  2023      12    27    9.0    4.1    1.1    75.8    1.1        8.5   \n360  2023      12    28    7.4    2.8   -1.0    79.1    1.2        7.6   \n361  2023      12    29    7.9    2.6   -1.1    75.1    1.3        6.5   \n362  2023      12    30    9.1    4.0   -1.3    78.8    1.2        0.5   \n363  2023      12    31    9.1    5.8    4.0    81.5    2.9        0.0   \n\n      rainfall   snow   cloud  \n45         0.0    0.0     7.6  \n46         0.0    0.0     6.4  \n47         0.0    0.0     9.0  \n48         0.9    0.0    10.0  \n49         2.9    0.0     5.3  \n..         ...    ...     ...  \n359        0.0    0.0     2.3  \n360        0.0    0.0     0.3  \n361        0.0    0.0     1.9  \n362        1.1    0.0     7.1  \n363        1.9    0.0     9.4  \n\n[319 rows x 12 columns]",
      "text/html": "<div>\n<style scoped>\n    .dataframe tbody tr th:only-of-type {\n        vertical-align: middle;\n    }\n\n    .dataframe tbody tr th {\n        vertical-align: top;\n    }\n\n    .dataframe thead th {\n        text-align: right;\n    }\n</style>\n<table border=\"1\" class=\"dataframe\">\n  <thead>\n    <tr style=\"text-align: right;\">\n      <th></th>\n      <th>year</th>\n      <th>month</th>\n      <th>day</th>\n      <th>tmax</th>\n      <th>tavg</th>\n      <th>tmin</th>\n      <th>humid</th>\n      <th>wind</th>\n      <th>sunshine</th>\n      <th>rainfall</th>\n      <th>snow</th>\n      <th>cloud</th>\n    </tr>\n  </thead>\n  <tbody>\n    <tr>\n      <th>45</th>\n      <td>2023</td>\n      <td>2</td>\n      <td>15</td>\n      <td>8.5</td>\n      <td>3.0</td>\n      <td>-2.0</td>\n      <td>65.1</td>\n      <td>1.0</td>\n      <td>2.6</td>\n      <td>0.0</td>\n      <td>0.0</td>\n      <td>7.6</td>\n    </tr>\n    <tr>\n      <th>46</th>\n      <td>2023</td>\n      <td>2</td>\n      <td>16</td>\n      <td>6.3</td>\n      <td>3.3</td>\n      <td>-0.5</td>\n      <td>69.0</td>\n      <td>1.2</td>\n      <td>0.3</td>\n      <td>0.0</td>\n      <td>0.0</td>\n      <td>6.4</td>\n    </tr>\n    <tr>\n      <th>47</th>\n      <td>2023</td>\n      <td>2</td>\n      <td>17</td>\n      <td>7.4</td>\n      <td>4.2</td>\n      <td>-1.1</td>\n      <td>60.0</td>\n      <td>0.8</td>\n      <td>0.4</td>\n      <td>0.0</td>\n      <td>0.0</td>\n      <td>9.0</td>\n    </tr>\n    <tr>\n      <th>48</th>\n      <td>2023</td>\n      <td>2</td>\n      <td>18</td>\n      <td>10.0</td>\n      <td>7.2</td>\n      <td>5.3</td>\n      <td>61.1</td>\n      <td>0.7</td>\n      <td>0.0</td>\n      <td>0.9</td>\n      <td>0.0</td>\n      <td>10.0</td>\n    </tr>\n    <tr>\n      <th>49</th>\n      <td>2023</td>\n      <td>2</td>\n      <td>19</td>\n      <td>6.3</td>\n      <td>3.2</td>\n      <td>-0.7</td>\n      <td>73.8</td>\n      <td>2.8</td>\n      <td>5.1</td>\n      <td>2.9</td>\n      <td>0.0</td>\n      <td>5.3</td>\n    </tr>\n    <tr>\n      <th>...</th>\n      <td>...</td>\n      <td>...</td>\n      <td>...</td>\n      <td>...</td>\n      <td>...</td>\n      <td>...</td>\n      <td>...</td>\n      <td>...</td>\n      <td>...</td>\n      <td>...</td>\n      <td>...</td>\n      <td>...</td>\n    </tr>\n    <tr>\n      <th>359</th>\n      <td>2023</td>\n      <td>12</td>\n      <td>27</td>\n      <td>9.0</td>\n      <td>4.1</td>\n      <td>1.1</td>\n      <td>75.8</td>\n      <td>1.1</td>\n      <td>8.5</td>\n      <td>0.0</td>\n      <td>0.0</td>\n      <td>2.3</td>\n    </tr>\n    <tr>\n      <th>360</th>\n      <td>2023</td>\n      <td>12</td>\n      <td>28</td>\n      <td>7.4</td>\n      <td>2.8</td>\n      <td>-1.0</td>\n      <td>79.1</td>\n      <td>1.2</td>\n      <td>7.6</td>\n      <td>0.0</td>\n      <td>0.0</td>\n      <td>0.3</td>\n    </tr>\n    <tr>\n      <th>361</th>\n      <td>2023</td>\n      <td>12</td>\n      <td>29</td>\n      <td>7.9</td>\n      <td>2.6</td>\n      <td>-1.1</td>\n      <td>75.1</td>\n      <td>1.3</td>\n      <td>6.5</td>\n      <td>0.0</td>\n      <td>0.0</td>\n      <td>1.9</td>\n    </tr>\n    <tr>\n      <th>362</th>\n      <td>2023</td>\n      <td>12</td>\n      <td>30</td>\n      <td>9.1</td>\n      <td>4.0</td>\n      <td>-1.3</td>\n      <td>78.8</td>\n      <td>1.2</td>\n      <td>0.5</td>\n      <td>1.1</td>\n      <td>0.0</td>\n      <td>7.1</td>\n    </tr>\n    <tr>\n      <th>363</th>\n      <td>2023</td>\n      <td>12</td>\n      <td>31</td>\n      <td>9.1</td>\n      <td>5.8</td>\n      <td>4.0</td>\n      <td>81.5</td>\n      <td>2.9</td>\n      <td>0.0</td>\n      <td>1.9</td>\n      <td>0.0</td>\n      <td>9.4</td>\n    </tr>\n  </tbody>\n</table>\n<p>319 rows × 12 columns</p>\n</div>"
     },
     "execution_count": 17,
     "metadata": {},
     "output_type": "execute_result"
    }
   ],
   "source": [
    "df23 = df23[:][45:]\n",
    "df23"
   ],
   "metadata": {
    "collapsed": false
   }
  },
  {
   "cell_type": "code",
   "execution_count": 18,
   "outputs": [
    {
     "name": "stdout",
     "output_type": "stream",
     "text": [
      "2023년 4월 5일\n"
     ]
    }
   ],
   "source": [
    "# Tc와 Hr 값 설정\n",
    "Tc = 5.4\n",
    "Hr = 272\n",
    "\n",
    "# 계산 함수 정의\n",
    "def calculate_cd(row, Tc):\n",
    "    tmin = row[' tmin']\n",
    "    tmax = row[' tmax']\n",
    "    tavg = row[' tavg']\n",
    "\n",
    "    # 조건 1: Tc가 tmin과 tmax 사이에 있을 때\n",
    "    if 0 <= Tc <= tmin <= tmax:\n",
    "        return tavg - Tc\n",
    "\n",
    "    # 조건 2: tmin <= Tc <= tmax (Tc가 tmin과 tmax 사이에 있을 때)\n",
    "    elif 0 <= tmin <= Tc <= tmax:\n",
    "        return (tmax - Tc) / 2\n",
    "\n",
    "    # 조건 3: tmin과 tmax가 모두 Tc 이하일 때\n",
    "    elif 0 <= tmin <= tmax <= Tc:\n",
    "        return 0\n",
    "\n",
    "    # 조건 4: tmin이 0 이하이고 tmax가 Tc 이하일 때\n",
    "    elif tmin <= 0 <= tmax <= Tc:\n",
    "        return 0\n",
    "\n",
    "    # 조건 5: tmin이 0 이하이고 Tc가 tmax보다 작을 때\n",
    "    elif tmin <= 0 <= Tc <= tmax:\n",
    "        return (tmax - Tc) / 2\n",
    "\n",
    "    # 그 외의 경우\n",
    "    else:\n",
    "        return 0\n",
    "\n",
    "# 데이터프레임의 각 행에 대해 위 함수를 적용\n",
    "df23['cd'] = df23.apply(lambda row: calculate_cd(row, Tc), axis=1)\n",
    "\n",
    "# 누적 합계 계산\n",
    "df23['cumsum_cd'] = df23['cd'].cumsum()\n",
    "\n",
    "# Hr 이상이 되는 첫 번째 시점의 결과 추출\n",
    "result = df23[df23['cumsum_cd'] >= Hr].iloc[0]\n",
    "blossom = f'{int(result[\"year\"])}년 {int(result[\" month\"])}월 {int(result[\" day\"])}일'\n",
    "\n",
    "# 결과 출력\n",
    "print(blossom)"
   ],
   "metadata": {
    "collapsed": false
   }
  },
  {
   "cell_type": "markdown",
   "source": [],
   "metadata": {
    "collapsed": false
   }
  },
  {
   "cell_type": "markdown",
   "source": [
    "## Streamlit 시각화\n",
    "- [배] 20년간 추이 분석 2004-2024, [전주]에서만\n",
    "- [포도] 20년간 추이 분석 2004-2024, [김제, 화성, 완주, 거창, 상주, 천안, 춘천, 옥천]"
   ],
   "metadata": {
    "collapsed": false
   }
  },
  {
   "cell_type": "code",
   "execution_count": 22,
   "outputs": [
    {
     "data": {
      "text/plain": "      docity  do   city   longitude   latitude\n0      강원강릉시  강원    강릉시  128.878497  37.749136\n1      강원고성군  강원    고성군  128.470164  38.377961\n2      강원동해시  강원    동해시  129.116633  37.521931\n3      강원삼척시  강원    삼척시  129.167489  37.447086\n4      강원속초시  강원    속초시  128.594167  38.204275\n..       ...  ..    ...         ...        ...\n290    충청충주시  충청    충주시  127.928144  36.988181\n291    충청태안군  충청    태안군  126.299975  36.742667\n292  충청한누리대로  충청  한누리대로  127.289926  36.485450\n293    충청홍성군  충청    홍성군  126.662908  36.598361\n294    충청대전시  충청    대전시  127.384862  36.350629\n\n[295 rows x 5 columns]",
      "text/html": "<div>\n<style scoped>\n    .dataframe tbody tr th:only-of-type {\n        vertical-align: middle;\n    }\n\n    .dataframe tbody tr th {\n        vertical-align: top;\n    }\n\n    .dataframe thead th {\n        text-align: right;\n    }\n</style>\n<table border=\"1\" class=\"dataframe\">\n  <thead>\n    <tr style=\"text-align: right;\">\n      <th></th>\n      <th>docity</th>\n      <th>do</th>\n      <th>city</th>\n      <th>longitude</th>\n      <th>latitude</th>\n    </tr>\n  </thead>\n  <tbody>\n    <tr>\n      <th>0</th>\n      <td>강원강릉시</td>\n      <td>강원</td>\n      <td>강릉시</td>\n      <td>128.878497</td>\n      <td>37.749136</td>\n    </tr>\n    <tr>\n      <th>1</th>\n      <td>강원고성군</td>\n      <td>강원</td>\n      <td>고성군</td>\n      <td>128.470164</td>\n      <td>38.377961</td>\n    </tr>\n    <tr>\n      <th>2</th>\n      <td>강원동해시</td>\n      <td>강원</td>\n      <td>동해시</td>\n      <td>129.116633</td>\n      <td>37.521931</td>\n    </tr>\n    <tr>\n      <th>3</th>\n      <td>강원삼척시</td>\n      <td>강원</td>\n      <td>삼척시</td>\n      <td>129.167489</td>\n      <td>37.447086</td>\n    </tr>\n    <tr>\n      <th>4</th>\n      <td>강원속초시</td>\n      <td>강원</td>\n      <td>속초시</td>\n      <td>128.594167</td>\n      <td>38.204275</td>\n    </tr>\n    <tr>\n      <th>...</th>\n      <td>...</td>\n      <td>...</td>\n      <td>...</td>\n      <td>...</td>\n      <td>...</td>\n    </tr>\n    <tr>\n      <th>290</th>\n      <td>충청충주시</td>\n      <td>충청</td>\n      <td>충주시</td>\n      <td>127.928144</td>\n      <td>36.988181</td>\n    </tr>\n    <tr>\n      <th>291</th>\n      <td>충청태안군</td>\n      <td>충청</td>\n      <td>태안군</td>\n      <td>126.299975</td>\n      <td>36.742667</td>\n    </tr>\n    <tr>\n      <th>292</th>\n      <td>충청한누리대로</td>\n      <td>충청</td>\n      <td>한누리대로</td>\n      <td>127.289926</td>\n      <td>36.485450</td>\n    </tr>\n    <tr>\n      <th>293</th>\n      <td>충청홍성군</td>\n      <td>충청</td>\n      <td>홍성군</td>\n      <td>126.662908</td>\n      <td>36.598361</td>\n    </tr>\n    <tr>\n      <th>294</th>\n      <td>충청대전시</td>\n      <td>충청</td>\n      <td>대전시</td>\n      <td>127.384862</td>\n      <td>36.350629</td>\n    </tr>\n  </tbody>\n</table>\n<p>295 rows × 5 columns</p>\n</div>"
     },
     "execution_count": 22,
     "metadata": {},
     "output_type": "execute_result"
    }
   ],
   "source": [
    "latlon = pd.read_csv('korea_administrative_division_latitude_longitude.csv')\n",
    "latlon"
   ],
   "metadata": {
    "collapsed": false
   }
  },
  {
   "cell_type": "code",
   "execution_count": 24,
   "outputs": [
    {
     "data": {
      "text/plain": "    docity  do city   longitude   latitude\n12   강원춘천시  강원  춘천시  127.732311  37.878542\n51   경기화성시  경기  화성시  126.833531  37.196817\n54   경상거창군  경상  거창군  127.911656  35.683625\n72   경상상주시  경상  상주시  128.161264  36.407969\n185  전라김제시  전라  김제시  126.882753  35.800575\n201  전라완주군  전라  완주군  127.149597  35.842969\n276  충청옥천군  충청  옥천군  127.573633  36.303550\n286  충청천안시  충청  천안시  127.152467  36.804125",
      "text/html": "<div>\n<style scoped>\n    .dataframe tbody tr th:only-of-type {\n        vertical-align: middle;\n    }\n\n    .dataframe tbody tr th {\n        vertical-align: top;\n    }\n\n    .dataframe thead th {\n        text-align: right;\n    }\n</style>\n<table border=\"1\" class=\"dataframe\">\n  <thead>\n    <tr style=\"text-align: right;\">\n      <th></th>\n      <th>docity</th>\n      <th>do</th>\n      <th>city</th>\n      <th>longitude</th>\n      <th>latitude</th>\n    </tr>\n  </thead>\n  <tbody>\n    <tr>\n      <th>12</th>\n      <td>강원춘천시</td>\n      <td>강원</td>\n      <td>춘천시</td>\n      <td>127.732311</td>\n      <td>37.878542</td>\n    </tr>\n    <tr>\n      <th>51</th>\n      <td>경기화성시</td>\n      <td>경기</td>\n      <td>화성시</td>\n      <td>126.833531</td>\n      <td>37.196817</td>\n    </tr>\n    <tr>\n      <th>54</th>\n      <td>경상거창군</td>\n      <td>경상</td>\n      <td>거창군</td>\n      <td>127.911656</td>\n      <td>35.683625</td>\n    </tr>\n    <tr>\n      <th>72</th>\n      <td>경상상주시</td>\n      <td>경상</td>\n      <td>상주시</td>\n      <td>128.161264</td>\n      <td>36.407969</td>\n    </tr>\n    <tr>\n      <th>185</th>\n      <td>전라김제시</td>\n      <td>전라</td>\n      <td>김제시</td>\n      <td>126.882753</td>\n      <td>35.800575</td>\n    </tr>\n    <tr>\n      <th>201</th>\n      <td>전라완주군</td>\n      <td>전라</td>\n      <td>완주군</td>\n      <td>127.149597</td>\n      <td>35.842969</td>\n    </tr>\n    <tr>\n      <th>276</th>\n      <td>충청옥천군</td>\n      <td>충청</td>\n      <td>옥천군</td>\n      <td>127.573633</td>\n      <td>36.303550</td>\n    </tr>\n    <tr>\n      <th>286</th>\n      <td>충청천안시</td>\n      <td>충청</td>\n      <td>천안시</td>\n      <td>127.152467</td>\n      <td>36.804125</td>\n    </tr>\n  </tbody>\n</table>\n</div>"
     },
     "execution_count": 24,
     "metadata": {},
     "output_type": "execute_result"
    }
   ],
   "source": [
    "grapeloc = ['김제시', '화성시', '완주군', '거창군', '상주시', '천안시', '춘천시', '옥천군']\n",
    "\n",
    "drop_indices = []\n",
    "\n",
    "for index, row in latlon.iterrows():\n",
    "    if row['city'] not in grapeloc:\n",
    "        drop_indices.append(index)\n",
    "\n",
    "latlon.drop(drop_indices, axis=0, inplace=True)\n",
    "\n",
    "latlon"
   ],
   "metadata": {
    "collapsed": false
   }
  },
  {
   "cell_type": "code",
   "execution_count": 25,
   "outputs": [
    {
     "name": "stderr",
     "output_type": "stream",
     "text": [
      "2024-10-03 10:41:20.126 WARNING streamlit.runtime.scriptrunner_utils.script_run_context: Thread 'MainThread': missing ScriptRunContext! This warning can be ignored when running in bare mode.\n",
      "/var/folders/pt/xk6c0b5907z_9txgpjnm7d000000gn/T/ipykernel_62780/985843422.py:18: DeprecationWarning: \n",
      "folium_static is deprecated and will be removed in a future release, or\n",
      "simply replaced with with st_folium which always passes\n",
      "returned_objects=[] to the component.\n",
      "Please try using st_folium instead, and\n",
      "post an issue at https://github.com/randyzwitch/streamlit-folium/issues\n",
      "if you experience issues with st_folium.\n",
      "\n",
      "  folium_static(m)\n",
      "2024-10-03 10:41:20.141 WARNING streamlit.runtime.scriptrunner_utils.script_run_context: Thread 'MainThread': missing ScriptRunContext! This warning can be ignored when running in bare mode.\n",
      "2024-10-03 10:41:20.170 \n",
      "  \u001B[33m\u001B[1mWarning:\u001B[0m to view this Streamlit app on a browser, run it with the following\n",
      "  command:\n",
      "\n",
      "    streamlit run /Users/sola/opt/anaconda3/envs/DBprj/lib/python3.9/site-packages/ipykernel_launcher.py [ARGUMENTS]\n",
      "2024-10-03 10:41:20.171 Thread 'MainThread': missing ScriptRunContext! This warning can be ignored when running in bare mode.\n"
     ]
    },
    {
     "data": {
      "text/plain": "DeltaGenerator()"
     },
     "execution_count": 25,
     "metadata": {},
     "output_type": "execute_result"
    }
   ],
   "source": [
    "import streamlit as st\n",
    "from streamlit_folium import folium_static\n",
    "import folium\n",
    "from folium.plugins import MarkerCluster\n",
    "import pandas as pd\n",
    "\n",
    "m = folium.Map(location=[36.350412, 127.384548], zoom_start=13)\n",
    "\n",
    "marker_cluster = MarkerCluster().add_to(m)\n",
    "\n",
    "for idx, row in latlon.iterrows():\n",
    "    folium.Marker(\n",
    "        location=[row[\"latitude\"], row[\"longitude\"]],\n",
    "        popup=row[\"city\"],\n",
    "    ).add_to(marker_cluster)\n",
    "\n",
    "\n",
    "folium_static(m)"
   ],
   "metadata": {
    "collapsed": false
   }
  },
  {
   "cell_type": "code",
   "execution_count": 35,
   "outputs": [
    {
     "name": "stdout",
     "output_type": "stream",
     "text": [
      "Unexpected exception formatting exception. Falling back to standard exception\n"
     ]
    },
    {
     "name": "stderr",
     "output_type": "stream",
     "text": [
      "Traceback (most recent call last):\n",
      "  File \"/Users/sola/opt/anaconda3/envs/DBprj/lib/python3.9/site-packages/IPython/core/interactiveshell.py\", line 3526, in run_code\n",
      "    exec(code_obj, self.user_global_ns, self.user_ns)\n",
      "  File \"/var/folders/pt/xk6c0b5907z_9txgpjnm7d000000gn/T/ipykernel_29710/1775266183.py\", line 2, in <module>\n",
      "    result = df23[df23['cumsum_cd'] >= Hr].iloc[0]\n",
      "  File \"/Users/sola/opt/anaconda3/envs/DBprj/lib/python3.9/site-packages/pandas/core/ops/common.py\", line 76, in new_method\n",
      "    return method(self, other)\n",
      "  File \"/Users/sola/opt/anaconda3/envs/DBprj/lib/python3.9/site-packages/pandas/core/arraylike.py\", line 60, in __ge__\n",
      "    return self._cmp_method(other, operator.ge)\n",
      "  File \"/Users/sola/opt/anaconda3/envs/DBprj/lib/python3.9/site-packages/pandas/core/series.py\", line 6110, in _cmp_method\n",
      "    res_values = ops.comparison_op(lvalues, rvalues, op)\n",
      "  File \"/Users/sola/opt/anaconda3/envs/DBprj/lib/python3.9/site-packages/pandas/core/ops/array_ops.py\", line 344, in comparison_op\n",
      "    res_values = comp_method_OBJECT_ARRAY(op, lvalues, rvalues)\n",
      "  File \"/Users/sola/opt/anaconda3/envs/DBprj/lib/python3.9/site-packages/pandas/core/ops/array_ops.py\", line 129, in comp_method_OBJECT_ARRAY\n",
      "    result = libops.scalar_compare(x.ravel(), y, op)\n",
      "  File \"ops.pyx\", line 107, in pandas._libs.ops.scalar_compare\n",
      "  File \"/Users/sola/opt/anaconda3/envs/DBprj/lib/python3.9/site-packages/pandas/core/generic.py\", line 1576, in __nonzero__\n",
      "    raise ValueError(\n",
      "ValueError: The truth value of a Series is ambiguous. Use a.empty, a.bool(), a.item(), a.any() or a.all().\n",
      "\n",
      "During handling of the above exception, another exception occurred:\n",
      "\n",
      "Traceback (most recent call last):\n",
      "  File \"/Users/sola/opt/anaconda3/envs/DBprj/lib/python3.9/site-packages/IPython/core/interactiveshell.py\", line 2120, in showtraceback\n",
      "    stb = self.InteractiveTB.structured_traceback(\n",
      "  File \"/Users/sola/opt/anaconda3/envs/DBprj/lib/python3.9/site-packages/IPython/core/ultratb.py\", line 1435, in structured_traceback\n",
      "    return FormattedTB.structured_traceback(\n",
      "  File \"/Users/sola/opt/anaconda3/envs/DBprj/lib/python3.9/site-packages/IPython/core/ultratb.py\", line 1326, in structured_traceback\n",
      "    return VerboseTB.structured_traceback(\n",
      "  File \"/Users/sola/opt/anaconda3/envs/DBprj/lib/python3.9/site-packages/IPython/core/ultratb.py\", line 1173, in structured_traceback\n",
      "    formatted_exception = self.format_exception_as_a_whole(etype, evalue, etb, number_of_lines_of_context,\n",
      "  File \"/Users/sola/opt/anaconda3/envs/DBprj/lib/python3.9/site-packages/IPython/core/ultratb.py\", line 1063, in format_exception_as_a_whole\n",
      "    self.get_records(etb, number_of_lines_of_context, tb_offset) if etb else []\n",
      "  File \"/Users/sola/opt/anaconda3/envs/DBprj/lib/python3.9/site-packages/IPython/core/ultratb.py\", line 1155, in get_records\n",
      "    FrameInfo(\n",
      "  File \"/Users/sola/opt/anaconda3/envs/DBprj/lib/python3.9/site-packages/IPython/core/ultratb.py\", line 780, in __init__\n",
      "    ix = inspect.getsourcelines(frame)\n",
      "  File \"/Users/sola/opt/anaconda3/envs/DBprj/lib/python3.9/inspect.py\", line 1006, in getsourcelines\n",
      "    lines, lnum = findsource(object)\n",
      "  File \"/Users/sola/opt/anaconda3/envs/DBprj/lib/python3.9/inspect.py\", line 827, in findsource\n",
      "    raise OSError('source code not available')\n",
      "OSError: source code not available\n"
     ]
    }
   ],
   "source": [],
   "metadata": {
    "collapsed": false
   }
  },
  {
   "cell_type": "code",
   "execution_count": null,
   "outputs": [],
   "source": [],
   "metadata": {
    "collapsed": false
   }
  }
 ],
 "metadata": {
  "kernelspec": {
   "display_name": "Python 3",
   "language": "python",
   "name": "python3"
  },
  "language_info": {
   "codemirror_mode": {
    "name": "ipython",
    "version": 2
   },
   "file_extension": ".py",
   "mimetype": "text/x-python",
   "name": "python",
   "nbconvert_exporter": "python",
   "pygments_lexer": "ipython2",
   "version": "2.7.6"
  }
 },
 "nbformat": 4,
 "nbformat_minor": 0
}
